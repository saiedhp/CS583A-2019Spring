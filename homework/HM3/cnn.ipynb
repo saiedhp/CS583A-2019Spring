{
 "cells": [
  {
   "cell_type": "markdown",
   "metadata": {},
   "source": [
    "# Home 3: Build a CNN for image recognition.\n",
    "\n",
    "### Name: [Your-Name?]\n"
   ]
  },
  {
   "cell_type": "markdown",
   "metadata": {},
   "source": [
    "## 0. You will do the following:\n",
    "\n",
    "1. Read, complete, and run my code.\n",
    "\n",
    "2. **Make substantial improvements** to maximize the accurcy.\n",
    "    \n",
    "3. Convert the .IPYNB file to .HTML file.\n",
    "\n",
    "    * The HTML file must contain the code and the output after execution.\n",
    "    \n",
    "4. Upload this .HTML file to your Github repo.\n",
    "\n",
    "4. Submit the link to this .HTML file to Canvas.\n",
    "\n",
    "    * Example: https://github.com/wangshusen/CS583A-2019Spring/blob/master/homework/HM3/cnn.html\n"
   ]
  },
  {
   "cell_type": "markdown",
   "metadata": {},
   "source": [
    "## 1. Data preparation"
   ]
  },
  {
   "cell_type": "markdown",
   "metadata": {},
   "source": [
    "### 1.1. Load data\n"
   ]
  },
  {
   "cell_type": "code",
   "execution_count": 9,
   "metadata": {},
   "outputs": [
    {
     "name": "stdout",
     "output_type": "stream",
     "text": [
      "shape of x_train: (50000, 32, 32, 3)\n",
      "shape of y_train: (50000, 1)\n",
      "shape of x_test: (10000, 32, 32, 3)\n",
      "shape of y_test: (10000, 1)\n",
      "number of classes: 10\n"
     ]
    }
   ],
   "source": [
    "from keras.datasets import cifar10\n",
    "import numpy\n",
    "\n",
    "(x_train, y_train), (x_test, y_test) = cifar10.load_data()\n",
    "\n",
    "print('shape of x_train: ' + str(x_train.shape))\n",
    "print('shape of y_train: ' + str(y_train.shape))\n",
    "print('shape of x_test: ' + str(x_test.shape))\n",
    "print('shape of y_test: ' + str(y_test.shape))\n",
    "print('number of classes: ' + str(numpy.max(y_train) - numpy.min(y_train) + 1))"
   ]
  },
  {
   "cell_type": "markdown",
   "metadata": {},
   "source": [
    "### 1.2. One-hot encode the labels\n",
    "\n",
    "In the input, a label is a scalar in $\\{0, 1, \\cdots , 9\\}$. One-hot encode transform such a scalar to a $10$-dim vector. E.g., a scalar ```y_train[j]=3``` is transformed to the vector ```y_train_vec[j]=[0, 0, 0, 1, 0, 0, 0, 0, 0, 0]```.\n",
    "\n",
    "1. Define a function ```to_one_hot``` that transforms an $n\\times 1$ array to a $n\\times 10$ matrix.\n",
    "\n",
    "2. Apply the function to ```y_train``` and ```y_test```."
   ]
  },
  {
   "cell_type": "code",
   "execution_count": 10,
   "metadata": {},
   "outputs": [
    {
     "name": "stdout",
     "output_type": "stream",
     "text": [
      "Shape of y_train_vec: (50000, 10)\n",
      "Shape of y_test_vec: (10000, 10)\n",
      "[6]\n",
      "[0. 0. 0. 0. 0. 0. 1. 0. 0. 0.]\n"
     ]
    }
   ],
   "source": [
    "def to_one_hot(y, num_class=10):\n",
    "    one_hot = numpy.zeros((len(y), num_class))\n",
    "    for i in range(len(y)):\n",
    "        one_hot[i, y[i]] = 1\n",
    "    return one_hot\n",
    "\n",
    "y_train_vec = to_one_hot(y_train)\n",
    "y_test_vec = to_one_hot(y_test)\n",
    "\n",
    "print('Shape of y_train_vec: ' + str(y_train_vec.shape))\n",
    "print('Shape of y_test_vec: ' + str(y_test_vec.shape))\n",
    "\n",
    "print(y_train[0])\n",
    "print(y_train_vec[0])"
   ]
  },
  {
   "cell_type": "markdown",
   "metadata": {},
   "source": [
    "#### Remark: the outputs should be\n",
    "* Shape of y_train_vec: (50000, 10)\n",
    "* Shape of y_test_vec: (10000, 10)\n",
    "* [6]\n",
    "* [0. 0. 0. 0. 0. 0. 1. 0. 0. 0.]"
   ]
  },
  {
   "cell_type": "markdown",
   "metadata": {},
   "source": [
    "### 1.3. Randomly partition the training set to training and validation sets\n",
    "\n",
    "Randomly partition the 50K training samples to 2 sets:\n",
    "* a training set containing 40K samples\n",
    "* a validation set containing 10K samples\n"
   ]
  },
  {
   "cell_type": "code",
   "execution_count": 136,
   "metadata": {},
   "outputs": [
    {
     "name": "stdout",
     "output_type": "stream",
     "text": [
      "Shape of x_tr: (40000, 32, 32, 3)\n",
      "Shape of y_tr: (40000, 10)\n",
      "Shape of x_val: (10000, 32, 32, 3)\n",
      "Shape of y_val: (10000, 10)\n"
     ]
    }
   ],
   "source": [
    "rand_indices = numpy.random.permutation(50000)\n",
    "train_indices = rand_indices[0:40000]\n",
    "valid_indices = rand_indices[40000:50000]\n",
    "\n",
    "# train_indices = rand_indices[0:4000]\n",
    "# valid_indices = rand_indices[4000:5000]\n",
    "\n",
    "x_val = x_train[valid_indices, :]\n",
    "y_val = y_train_vec[valid_indices, :]\n",
    "\n",
    "x_tr = x_train[train_indices, :]\n",
    "y_tr = y_train_vec[train_indices, :]\n",
    "\n",
    "print('Shape of x_tr: ' + str(x_tr.shape))\n",
    "print('Shape of y_tr: ' + str(y_tr.shape))\n",
    "print('Shape of x_val: ' + str(x_val.shape))\n",
    "print('Shape of y_val: ' + str(y_val.shape))"
   ]
  },
  {
   "cell_type": "markdown",
   "metadata": {},
   "source": [
    "## 2. Build a CNN and tune its hyper-parameters\n",
    "\n",
    "1. Build a convolutional neural network model\n",
    "2. Use the validation data to tune the hyper-parameters (e.g., network structure, and optimization algorithm)\n",
    "    * Do NOT use test data for hyper-parameter tuning!!!\n",
    "3. Try to achieve a validation accuracy as high as possible."
   ]
  },
  {
   "cell_type": "markdown",
   "metadata": {},
   "source": [
    "### Remark: \n",
    "\n",
    "The following CNN is just an example. You are supposed to make **substantial improvements** such as:\n",
    "* Add more layers.\n",
    "* Use regularizations, e.g., dropout.\n",
    "* Use batch normalization."
   ]
  },
  {
   "cell_type": "code",
   "execution_count": 137,
   "metadata": {},
   "outputs": [
    {
     "name": "stdout",
     "output_type": "stream",
     "text": [
      "_________________________________________________________________\n",
      "Layer (type)                 Output Shape              Param #   \n",
      "=================================================================\n",
      "conv2d_215 (Conv2D)          (None, 32, 32, 32)        2432      \n",
      "_________________________________________________________________\n",
      "batch_normalization_55 (Batc (None, 32, 32, 32)        128       \n",
      "_________________________________________________________________\n",
      "activation_47 (Activation)   (None, 32, 32, 32)        0         \n",
      "_________________________________________________________________\n",
      "conv2d_216 (Conv2D)          (None, 32, 32, 32)        9248      \n",
      "_________________________________________________________________\n",
      "max_pooling2d_87 (MaxPooling (None, 16, 16, 32)        0         \n",
      "_________________________________________________________________\n",
      "conv2d_217 (Conv2D)          (None, 16, 16, 64)        18496     \n",
      "_________________________________________________________________\n",
      "conv2d_218 (Conv2D)          (None, 16, 16, 64)        36928     \n",
      "_________________________________________________________________\n",
      "max_pooling2d_88 (MaxPooling (None, 8, 8, 64)          0         \n",
      "_________________________________________________________________\n",
      "conv2d_219 (Conv2D)          (None, 8, 8, 128)         73856     \n",
      "_________________________________________________________________\n",
      "conv2d_220 (Conv2D)          (None, 8, 8, 128)         147584    \n",
      "_________________________________________________________________\n",
      "conv2d_221 (Conv2D)          (None, 8, 8, 256)         295168    \n",
      "_________________________________________________________________\n",
      "flatten_37 (Flatten)         (None, 16384)             0         \n",
      "_________________________________________________________________\n",
      "dropout_22 (Dropout)         (None, 16384)             0         \n",
      "_________________________________________________________________\n",
      "dense_74 (Dense)             (None, 128)               2097280   \n",
      "_________________________________________________________________\n",
      "batch_normalization_56 (Batc (None, 128)               512       \n",
      "_________________________________________________________________\n",
      "activation_48 (Activation)   (None, 128)               0         \n",
      "_________________________________________________________________\n",
      "dense_75 (Dense)             (None, 10)                1290      \n",
      "=================================================================\n",
      "Total params: 2,682,922\n",
      "Trainable params: 2,682,602\n",
      "Non-trainable params: 320\n",
      "_________________________________________________________________\n"
     ]
    }
   ],
   "source": [
    "from keras.layers import Conv2D, MaxPooling2D, Flatten, Dense, Add, BatchNormalization, Activation, Dropout\n",
    "from keras.models import Sequential\n",
    "\n",
    "model = Sequential()\n",
    "# model.add(Conv2D(32, (3, 3), activation='relu', padding='same', input_shape=(32, 32, 3)))\n",
    "model.add(Conv2D(32, (5, 5), padding='same', input_shape=(32, 32, 3)))\n",
    "model.add(BatchNormalization())\n",
    "model.add(Activation('relu'))\n",
    "model.add(Conv2D(32, (3, 3), activation='relu', padding='same'))\n",
    "model.add(MaxPooling2D((2, 2)))\n",
    "\n",
    "model.add(Conv2D(64, (3, 3), activation='relu', padding='same'))\n",
    "model.add(Conv2D(64, (3, 3), activation='relu', padding='same'))\n",
    "model.add(MaxPooling2D((2, 2)))\n",
    "\n",
    "model.add(Conv2D(128, (3, 3), activation='relu', padding='same'))\n",
    "model.add(Conv2D(128, (3, 3), activation='relu', padding='same'))\n",
    "# model.add(MaxPooling2D((2, 2)))\n",
    "\n",
    "# model.add(Dropout(rate=0.5))\n",
    "model.add(Conv2D(256, (3, 3), activation='relu', padding='same'))\n",
    "# model.add(Conv2D(256, (3, 3), activation='relu', padding='same'))\n",
    "# model.add(MaxPooling2D((2, 2)))\n",
    "\n",
    "# model.add(Conv2D(256, (3, 3), activation='relu', padding='same'))\n",
    "# model.add(Conv2D(256, (3, 3), activation='relu', padding='same'))\n",
    "# model.add(MaxPooling2D((2, 2)))\n",
    "\n",
    "model.add(Flatten())\n",
    "# model.add(Dense(256, activation='relu'))\n",
    "# model.add(Dense(128, activation='relu'))\n",
    "model.add(Dropout(rate=0.5))\n",
    "model.add(Dense(128))\n",
    "model.add(BatchNormalization())\n",
    "model.add(Activation('relu'))\n",
    "model.add(Dense(10, activation='softmax'))\n",
    "\n",
    "model.summary()"
   ]
  },
  {
   "cell_type": "code",
   "execution_count": 140,
   "metadata": {},
   "outputs": [],
   "source": [
    "from keras import optimizers\n",
    "\n",
    "learning_rate = 5E-5 # to be tuned!\n",
    "\n",
    "model.compile(loss='categorical_crossentropy',\n",
    "#               optimizer=optimizers.RMSprop(lr=learning_rate),\n",
    "              optimizer=optimizers.Adam(lr=learning_rate),\n",
    "              metrics=['acc'])"
   ]
  },
  {
   "cell_type": "code",
   "execution_count": 141,
   "metadata": {},
   "outputs": [
    {
     "name": "stdout",
     "output_type": "stream",
     "text": [
      "Train on 40000 samples, validate on 10000 samples\n",
      "Epoch 1/100\n",
      "40000/40000 [==============================] - 129s 3ms/step - loss: 1.3863 - acc: 0.5087 - val_loss: 1.2391 - val_acc: 0.5610\n",
      "Epoch 2/100\n",
      "40000/40000 [==============================] - 123s 3ms/step - loss: 1.1521 - acc: 0.5962 - val_loss: 1.0736 - val_acc: 0.6222\n",
      "Epoch 3/100\n",
      "40000/40000 [==============================] - 123s 3ms/step - loss: 1.0078 - acc: 0.6492 - val_loss: 0.9947 - val_acc: 0.6520\n",
      "Epoch 4/100\n",
      "40000/40000 [==============================] - 123s 3ms/step - loss: 0.8972 - acc: 0.6887 - val_loss: 0.9129 - val_acc: 0.6809\n",
      "Epoch 5/100\n",
      "40000/40000 [==============================] - 121s 3ms/step - loss: 0.8025 - acc: 0.7249 - val_loss: 0.9161 - val_acc: 0.6793\n",
      "Epoch 6/100\n",
      "40000/40000 [==============================] - 122s 3ms/step - loss: 0.7278 - acc: 0.7517 - val_loss: 0.9540 - val_acc: 0.6709\n",
      "Epoch 7/100\n",
      "40000/40000 [==============================] - 122s 3ms/step - loss: 0.6513 - acc: 0.7774 - val_loss: 0.8428 - val_acc: 0.7053\n",
      "Epoch 8/100\n",
      "40000/40000 [==============================] - 122s 3ms/step - loss: 0.5846 - acc: 0.8029 - val_loss: 0.8924 - val_acc: 0.6933\n",
      "Epoch 9/100\n",
      "40000/40000 [==============================] - 122s 3ms/step - loss: 0.5295 - acc: 0.8221 - val_loss: 0.8298 - val_acc: 0.7179\n",
      "Epoch 10/100\n",
      "40000/40000 [==============================] - 122s 3ms/step - loss: 0.4690 - acc: 0.8441 - val_loss: 0.8300 - val_acc: 0.7184\n",
      "Epoch 11/100\n",
      "40000/40000 [==============================] - 122s 3ms/step - loss: 0.4208 - acc: 0.8618 - val_loss: 0.8351 - val_acc: 0.7176\n",
      "Epoch 12/100\n",
      "40000/40000 [==============================] - 122s 3ms/step - loss: 0.3763 - acc: 0.8784 - val_loss: 0.8123 - val_acc: 0.7238\n",
      "Epoch 13/100\n",
      "40000/40000 [==============================] - 122s 3ms/step - loss: 0.3379 - acc: 0.8911 - val_loss: 0.7945 - val_acc: 0.7313\n",
      "Epoch 14/100\n",
      "40000/40000 [==============================] - 122s 3ms/step - loss: 0.3031 - acc: 0.9026 - val_loss: 0.8045 - val_acc: 0.7388\n",
      "Epoch 15/100\n",
      "40000/40000 [==============================] - 122s 3ms/step - loss: 0.2751 - acc: 0.9122 - val_loss: 0.7982 - val_acc: 0.7411\n",
      "Epoch 16/100\n",
      "40000/40000 [==============================] - 122s 3ms/step - loss: 0.2448 - acc: 0.9229 - val_loss: 0.8472 - val_acc: 0.7312\n",
      "Epoch 17/100\n",
      "40000/40000 [==============================] - 122s 3ms/step - loss: 0.2182 - acc: 0.9318 - val_loss: 0.8268 - val_acc: 0.7363\n",
      "Epoch 18/100\n",
      "40000/40000 [==============================] - 122s 3ms/step - loss: 0.2001 - acc: 0.9372 - val_loss: 0.9013 - val_acc: 0.7215\n",
      "Epoch 19/100\n",
      "40000/40000 [==============================] - 122s 3ms/step - loss: 0.1888 - acc: 0.9404 - val_loss: 0.9267 - val_acc: 0.7176\n",
      "Epoch 20/100\n",
      "40000/40000 [==============================] - 122s 3ms/step - loss: 0.1727 - acc: 0.9475 - val_loss: 0.8608 - val_acc: 0.7361\n",
      "Epoch 21/100\n",
      "40000/40000 [==============================] - 122s 3ms/step - loss: 0.1600 - acc: 0.9494 - val_loss: 0.8580 - val_acc: 0.7415\n",
      "Epoch 22/100\n",
      "40000/40000 [==============================] - 122s 3ms/step - loss: 0.1518 - acc: 0.9526 - val_loss: 0.8456 - val_acc: 0.7437\n",
      "Epoch 23/100\n",
      "40000/40000 [==============================] - 122s 3ms/step - loss: 0.1388 - acc: 0.9577 - val_loss: 0.8967 - val_acc: 0.7376\n",
      "Epoch 24/100\n",
      "40000/40000 [==============================] - 122s 3ms/step - loss: 0.1305 - acc: 0.9598 - val_loss: 0.9309 - val_acc: 0.7339\n",
      "Epoch 25/100\n",
      "40000/40000 [==============================] - 122s 3ms/step - loss: 0.1235 - acc: 0.9607 - val_loss: 0.9585 - val_acc: 0.7312\n",
      "Epoch 26/100\n",
      "40000/40000 [==============================] - 122s 3ms/step - loss: 0.1140 - acc: 0.9642 - val_loss: 0.8728 - val_acc: 0.7501\n",
      "Epoch 27/100\n",
      "40000/40000 [==============================] - 122s 3ms/step - loss: 0.1151 - acc: 0.9639 - val_loss: 0.8947 - val_acc: 0.7468\n",
      "Epoch 28/100\n",
      "40000/40000 [==============================] - 122s 3ms/step - loss: 0.1055 - acc: 0.9679 - val_loss: 0.9111 - val_acc: 0.7508\n",
      "Epoch 29/100\n",
      "40000/40000 [==============================] - 122s 3ms/step - loss: 0.1027 - acc: 0.9669 - val_loss: 0.8970 - val_acc: 0.7515\n",
      "Epoch 30/100\n",
      "40000/40000 [==============================] - 122s 3ms/step - loss: 0.0974 - acc: 0.9695 - val_loss: 0.9903 - val_acc: 0.7339\n",
      "Epoch 31/100\n",
      "40000/40000 [==============================] - 122s 3ms/step - loss: 0.0948 - acc: 0.9697 - val_loss: 0.9818 - val_acc: 0.7364\n",
      "Epoch 32/100\n",
      "40000/40000 [==============================] - 123s 3ms/step - loss: 0.0931 - acc: 0.9697 - val_loss: 0.9518 - val_acc: 0.7488\n",
      "Epoch 33/100\n",
      "40000/40000 [==============================] - 122s 3ms/step - loss: 0.0885 - acc: 0.9717 - val_loss: 0.9146 - val_acc: 0.7536\n",
      "Epoch 34/100\n",
      "40000/40000 [==============================] - 122s 3ms/step - loss: 0.0815 - acc: 0.9751 - val_loss: 0.9533 - val_acc: 0.7470\n",
      "Epoch 35/100\n",
      "40000/40000 [==============================] - 123s 3ms/step - loss: 0.0862 - acc: 0.9722 - val_loss: 0.9738 - val_acc: 0.7409\n",
      "Epoch 36/100\n",
      "40000/40000 [==============================] - 123s 3ms/step - loss: 0.0791 - acc: 0.9737 - val_loss: 1.0245 - val_acc: 0.7355\n",
      "Epoch 37/100\n",
      "40000/40000 [==============================] - 123s 3ms/step - loss: 0.0797 - acc: 0.9747 - val_loss: 0.9599 - val_acc: 0.7508\n",
      "Epoch 38/100\n",
      "40000/40000 [==============================] - 123s 3ms/step - loss: 0.0746 - acc: 0.9762 - val_loss: 0.9808 - val_acc: 0.7458\n",
      "Epoch 39/100\n",
      "40000/40000 [==============================] - 123s 3ms/step - loss: 0.0778 - acc: 0.9748 - val_loss: 1.0035 - val_acc: 0.7422\n",
      "Epoch 40/100\n",
      "40000/40000 [==============================] - 123s 3ms/step - loss: 0.0705 - acc: 0.9778 - val_loss: 1.0203 - val_acc: 0.7443\n",
      "Epoch 41/100\n",
      "40000/40000 [==============================] - 123s 3ms/step - loss: 0.0707 - acc: 0.9782 - val_loss: 1.0112 - val_acc: 0.7433\n",
      "Epoch 42/100\n",
      "40000/40000 [==============================] - 123s 3ms/step - loss: 0.0667 - acc: 0.9782 - val_loss: 0.9586 - val_acc: 0.7539\n",
      "Epoch 43/100\n",
      "40000/40000 [==============================] - 123s 3ms/step - loss: 0.0678 - acc: 0.9793 - val_loss: 1.1041 - val_acc: 0.7328\n",
      "Epoch 44/100\n",
      "40000/40000 [==============================] - 123s 3ms/step - loss: 0.0673 - acc: 0.9779 - val_loss: 1.0385 - val_acc: 0.7423\n",
      "Epoch 45/100\n",
      "40000/40000 [==============================] - 123s 3ms/step - loss: 0.0634 - acc: 0.9794 - val_loss: 1.0261 - val_acc: 0.7519\n",
      "Epoch 46/100\n",
      "40000/40000 [==============================] - 123s 3ms/step - loss: 0.0656 - acc: 0.9787 - val_loss: 1.0285 - val_acc: 0.7474\n",
      "Epoch 47/100\n",
      "40000/40000 [==============================] - 124s 3ms/step - loss: 0.0627 - acc: 0.9797 - val_loss: 1.0636 - val_acc: 0.7433\n",
      "Epoch 48/100\n",
      "40000/40000 [==============================] - 124s 3ms/step - loss: 0.0632 - acc: 0.9798 - val_loss: 1.0658 - val_acc: 0.7412\n",
      "Epoch 49/100\n",
      "40000/40000 [==============================] - 123s 3ms/step - loss: 0.0573 - acc: 0.9818 - val_loss: 1.0697 - val_acc: 0.7386\n",
      "Epoch 50/100\n",
      "40000/40000 [==============================] - 123s 3ms/step - loss: 0.0587 - acc: 0.9807 - val_loss: 1.0757 - val_acc: 0.7441\n",
      "Epoch 51/100\n",
      "40000/40000 [==============================] - 124s 3ms/step - loss: 0.0573 - acc: 0.9815 - val_loss: 1.1729 - val_acc: 0.7373\n",
      "Epoch 52/100\n",
      "40000/40000 [==============================] - 124s 3ms/step - loss: 0.0577 - acc: 0.9811 - val_loss: 1.0212 - val_acc: 0.7524\n",
      "Epoch 53/100\n",
      "40000/40000 [==============================] - 123s 3ms/step - loss: 0.0563 - acc: 0.9817 - val_loss: 1.0058 - val_acc: 0.7507\n",
      "Epoch 54/100\n",
      "40000/40000 [==============================] - 124s 3ms/step - loss: 0.0574 - acc: 0.9815 - val_loss: 1.0380 - val_acc: 0.7498\n",
      "Epoch 55/100\n",
      "40000/40000 [==============================] - 124s 3ms/step - loss: 0.0518 - acc: 0.9834 - val_loss: 1.0232 - val_acc: 0.7581\n",
      "Epoch 56/100\n",
      "40000/40000 [==============================] - 123s 3ms/step - loss: 0.0540 - acc: 0.9824 - val_loss: 1.0380 - val_acc: 0.7530\n",
      "Epoch 57/100\n",
      "40000/40000 [==============================] - 124s 3ms/step - loss: 0.0493 - acc: 0.9836 - val_loss: 1.1169 - val_acc: 0.7378\n",
      "Epoch 58/100\n",
      "40000/40000 [==============================] - 123s 3ms/step - loss: 0.0492 - acc: 0.9843 - val_loss: 1.0812 - val_acc: 0.7506\n",
      "Epoch 59/100\n"
     ]
    },
    {
     "name": "stdout",
     "output_type": "stream",
     "text": [
      "40000/40000 [==============================] - 121s 3ms/step - loss: 0.0517 - acc: 0.9830 - val_loss: 0.9872 - val_acc: 0.7631\n",
      "Epoch 60/100\n",
      "40000/40000 [==============================] - 121s 3ms/step - loss: 0.0504 - acc: 0.9831 - val_loss: 1.0688 - val_acc: 0.7473\n",
      "Epoch 61/100\n",
      "40000/40000 [==============================] - 121s 3ms/step - loss: 0.0486 - acc: 0.9837 - val_loss: 1.0471 - val_acc: 0.7532\n",
      "Epoch 62/100\n",
      "40000/40000 [==============================] - 121s 3ms/step - loss: 0.0450 - acc: 0.9859 - val_loss: 1.0086 - val_acc: 0.7550\n",
      "Epoch 63/100\n",
      "40000/40000 [==============================] - 121s 3ms/step - loss: 0.0473 - acc: 0.9842 - val_loss: 1.0920 - val_acc: 0.7435\n",
      "Epoch 64/100\n",
      "40000/40000 [==============================] - 120s 3ms/step - loss: 0.0457 - acc: 0.9856 - val_loss: 1.1644 - val_acc: 0.7433\n",
      "Epoch 65/100\n",
      "40000/40000 [==============================] - 120s 3ms/step - loss: 0.0508 - acc: 0.9830 - val_loss: 1.0362 - val_acc: 0.7550\n",
      "Epoch 66/100\n",
      "40000/40000 [==============================] - 120s 3ms/step - loss: 0.0481 - acc: 0.9848 - val_loss: 1.0775 - val_acc: 0.7543\n",
      "Epoch 67/100\n",
      "40000/40000 [==============================] - 120s 3ms/step - loss: 0.0438 - acc: 0.9863 - val_loss: 1.1501 - val_acc: 0.7476\n",
      "Epoch 68/100\n",
      "40000/40000 [==============================] - 124s 3ms/step - loss: 0.0446 - acc: 0.9851 - val_loss: 1.0702 - val_acc: 0.7569\n",
      "Epoch 69/100\n",
      "40000/40000 [==============================] - 126s 3ms/step - loss: 0.0443 - acc: 0.9860 - val_loss: 1.1469 - val_acc: 0.7489\n",
      "Epoch 70/100\n",
      "40000/40000 [==============================] - 127s 3ms/step - loss: 0.0449 - acc: 0.9855 - val_loss: 1.1033 - val_acc: 0.7505\n",
      "Epoch 71/100\n",
      "40000/40000 [==============================] - 133s 3ms/step - loss: 0.0384 - acc: 0.9877 - val_loss: 1.1000 - val_acc: 0.7518\n",
      "Epoch 72/100\n",
      "40000/40000 [==============================] - 132s 3ms/step - loss: 0.0449 - acc: 0.9846 - val_loss: 1.1235 - val_acc: 0.7505\n",
      "Epoch 73/100\n",
      "40000/40000 [==============================] - 133s 3ms/step - loss: 0.0384 - acc: 0.9880 - val_loss: 1.0537 - val_acc: 0.7627\n",
      "Epoch 74/100\n",
      "40000/40000 [==============================] - 132s 3ms/step - loss: 0.0409 - acc: 0.9872 - val_loss: 1.0882 - val_acc: 0.7642\n",
      "Epoch 75/100\n",
      "40000/40000 [==============================] - 132s 3ms/step - loss: 0.0401 - acc: 0.9867 - val_loss: 1.1240 - val_acc: 0.7523\n",
      "Epoch 76/100\n",
      "40000/40000 [==============================] - 132s 3ms/step - loss: 0.0431 - acc: 0.9861 - val_loss: 1.3489 - val_acc: 0.7301\n",
      "Epoch 77/100\n",
      "40000/40000 [==============================] - 132s 3ms/step - loss: 0.0390 - acc: 0.9869 - val_loss: 1.1112 - val_acc: 0.7565\n",
      "Epoch 78/100\n",
      "40000/40000 [==============================] - 134s 3ms/step - loss: 0.0433 - acc: 0.9860 - val_loss: 1.0768 - val_acc: 0.7543\n",
      "Epoch 79/100\n",
      "40000/40000 [==============================] - 133s 3ms/step - loss: 0.0403 - acc: 0.9867 - val_loss: 1.1208 - val_acc: 0.7522\n",
      "Epoch 80/100\n",
      "40000/40000 [==============================] - 133s 3ms/step - loss: 0.0398 - acc: 0.9868 - val_loss: 1.1311 - val_acc: 0.7529\n",
      "Epoch 81/100\n",
      "40000/40000 [==============================] - 133s 3ms/step - loss: 0.0369 - acc: 0.9874 - val_loss: 1.2734 - val_acc: 0.7395\n",
      "Epoch 82/100\n",
      "40000/40000 [==============================] - 132s 3ms/step - loss: 0.0377 - acc: 0.9881 - val_loss: 1.1279 - val_acc: 0.7647\n",
      "Epoch 83/100\n",
      "40000/40000 [==============================] - 132s 3ms/step - loss: 0.0396 - acc: 0.9867 - val_loss: 1.0838 - val_acc: 0.7590\n",
      "Epoch 84/100\n",
      "40000/40000 [==============================] - 133s 3ms/step - loss: 0.0381 - acc: 0.9883 - val_loss: 1.1182 - val_acc: 0.7534\n",
      "Epoch 85/100\n",
      "40000/40000 [==============================] - 132s 3ms/step - loss: 0.0373 - acc: 0.9879 - val_loss: 1.1281 - val_acc: 0.7559\n",
      "Epoch 86/100\n",
      "40000/40000 [==============================] - 132s 3ms/step - loss: 0.0407 - acc: 0.9869 - val_loss: 1.0521 - val_acc: 0.7674\n",
      "Epoch 87/100\n",
      "40000/40000 [==============================] - 132s 3ms/step - loss: 0.0337 - acc: 0.9890 - val_loss: 1.0884 - val_acc: 0.7671\n",
      "Epoch 88/100\n",
      "40000/40000 [==============================] - 133s 3ms/step - loss: 0.0372 - acc: 0.9874 - val_loss: 1.2363 - val_acc: 0.7524\n",
      "Epoch 89/100\n",
      "40000/40000 [==============================] - 134s 3ms/step - loss: 0.0351 - acc: 0.9884 - val_loss: 1.1033 - val_acc: 0.7529\n",
      "Epoch 90/100\n",
      "40000/40000 [==============================] - 134s 3ms/step - loss: 0.0340 - acc: 0.9886 - val_loss: 1.1438 - val_acc: 0.7581\n",
      "Epoch 91/100\n",
      "40000/40000 [==============================] - 135s 3ms/step - loss: 0.0343 - acc: 0.9889 - val_loss: 1.0679 - val_acc: 0.7510\n",
      "Epoch 92/100\n",
      "40000/40000 [==============================] - 135s 3ms/step - loss: 0.0335 - acc: 0.9894 - val_loss: 1.0943 - val_acc: 0.7557\n",
      "Epoch 93/100\n",
      "40000/40000 [==============================] - 135s 3ms/step - loss: 0.0341 - acc: 0.9888 - val_loss: 1.3861 - val_acc: 0.7192\n",
      "Epoch 94/100\n",
      "40000/40000 [==============================] - 135s 3ms/step - loss: 0.0360 - acc: 0.9878 - val_loss: 1.1119 - val_acc: 0.7575\n",
      "Epoch 95/100\n",
      "40000/40000 [==============================] - 135s 3ms/step - loss: 0.0378 - acc: 0.9874 - val_loss: 1.1051 - val_acc: 0.7634\n",
      "Epoch 96/100\n",
      "40000/40000 [==============================] - 134s 3ms/step - loss: 0.0290 - acc: 0.9908 - val_loss: 1.2376 - val_acc: 0.7404\n",
      "Epoch 97/100\n",
      "40000/40000 [==============================] - 135s 3ms/step - loss: 0.0325 - acc: 0.9896 - val_loss: 1.1351 - val_acc: 0.7577\n",
      "Epoch 98/100\n",
      "40000/40000 [==============================] - 134s 3ms/step - loss: 0.0362 - acc: 0.9876 - val_loss: 1.1635 - val_acc: 0.7504\n",
      "Epoch 99/100\n",
      "40000/40000 [==============================] - 135s 3ms/step - loss: 0.0350 - acc: 0.9884 - val_loss: 1.1978 - val_acc: 0.7582\n",
      "Epoch 100/100\n",
      "40000/40000 [==============================] - 134s 3ms/step - loss: 0.0297 - acc: 0.9905 - val_loss: 1.1806 - val_acc: 0.7625\n"
     ]
    }
   ],
   "source": [
    "history = model.fit(x_tr, y_tr, batch_size=32, epochs=100, validation_data=(x_val, y_val))"
   ]
  },
  {
   "cell_type": "code",
   "execution_count": 142,
   "metadata": {},
   "outputs": [
    {
     "data": {
      "image/png": "[encoded data removed]",
      "text/plain": [
       "<Figure size 432x288 with 1 Axes>"
      ]
     },
     "metadata": {
      "needs_background": "light"
     },
     "output_type": "display_data"
    }
   ],
   "source": [
    "import matplotlib.pyplot as plt\n",
    "%matplotlib inline\n",
    "\n",
    "acc = history.history['acc']\n",
    "val_acc = history.history['val_acc']\n",
    "\n",
    "epochs = range(len(acc))\n",
    "\n",
    "plt.plot(epochs, acc, 'bo', label='Training acc')\n",
    "plt.plot(epochs, val_acc, 'r', label='Validation acc')\n",
    "plt.xlabel('Epochs')\n",
    "plt.ylabel('Accuracy')\n",
    "plt.legend()\n",
    "plt.show()"
   ]
  },
  {
   "cell_type": "markdown",
   "metadata": {},
   "source": [
    "## 3. Train (again) and evaluate the model\n",
    "\n",
    "- To this end, you have found the \"best\" hyper-parameters. \n",
    "- Now, fix the hyper-parameters and train the network on the entire training set (all the 50K training samples)\n",
    "- Evaluate your model on the test set."
   ]
  },
  {
   "cell_type": "markdown",
   "metadata": {},
   "source": [
    "### 3.1. Train the model on the entire training set\n",
    "\n",
    "Why? Previously, you used 40K samples for training; you wasted 10K samples for the sake of hyper-parameter tuning. Now you already know the hyper-parameters, so why not using all the 50K samples for training?"
   ]
  },
  {
   "cell_type": "code",
   "execution_count": null,
   "metadata": {},
   "outputs": [],
   "source": [
    "<Compile your model again (using the same hyper-parameters)>\n",
    "..."
   ]
  },
  {
   "cell_type": "code",
   "execution_count": null,
   "metadata": {},
   "outputs": [],
   "source": [
    "<Train your model on the entire training set (50K samples)>\n",
    "<Use (x_train, y_train_vec) instead of (x_tr, y_tr)>\n",
    "<Do NOT use the validation_data option (because now you do not have validation data)>\n",
    "..."
   ]
  },
  {
   "cell_type": "markdown",
   "metadata": {},
   "source": [
    "### 3.2. Evaluate the model on the test set\n",
    "\n",
    "Do NOT used the test set until now. Make sure that your model parameters and hyper-parameters are independent of the test set."
   ]
  },
  {
   "cell_type": "code",
   "execution_count": null,
   "metadata": {},
   "outputs": [],
   "source": [
    "loss_and_acc = model.evaluate(x_test, y_test_vec)\n",
    "print('loss = ' + str(loss_and_acc[0]))\n",
    "print('accuracy = ' + str(loss_and_acc[1]))"
   ]
  },
  {
   "cell_type": "code",
   "execution_count": null,
   "metadata": {},
   "outputs": [],
   "source": []
  }
 ],
 "metadata": {
  "kernelspec": {
   "display_name": "Python 3",
   "language": "python",
   "name": "python3"
  },
  "language_info": {
   "codemirror_mode": {
    "name": "ipython",
    "version": 3
   },
   "file_extension": ".py",
   "mimetype": "text/x-python",
   "name": "python",
   "nbconvert_exporter": "python",
   "pygments_lexer": "ipython3",
   "version": "3.5.2"
  }
 },
 "nbformat": 4,
 "nbformat_minor": 2
}
